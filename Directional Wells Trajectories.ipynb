{
 "cells": [
  {
   "cell_type": "markdown",
   "metadata": {},
   "source": [
    "#                                            DIRECTIONAL DRILLING \n",
    "##                                           *DIRECTIONAL WELLS PROFILES*"
   ]
  },
  {
   "cell_type": "markdown",
   "metadata": {},
   "source": [
    "***"
   ]
  },
  {
   "cell_type": "markdown",
   "metadata": {},
   "source": [
    "<img src=\"resources/Well_prof.jpg\" width=800 height=800 />"
   ]
  },
  {
   "cell_type": "markdown",
   "metadata": {},
   "source": [
    "# Python Libraries"
   ]
  },
  {
   "cell_type": "code",
   "execution_count": null,
   "outputs": [],
   "source": [
    "from collections import namedtuple\n",
    "from math import radians, acos, asin, cos, sin, atan, degrees, sqrt"
   ],
   "metadata": {
    "collapsed": false
   }
  },
  {
   "cell_type": "markdown",
   "source": [
    "# *Directional Wells Profiles*"
   ],
   "metadata": {
    "collapsed": false
   }
  },
  {
   "cell_type": "markdown",
   "source": [
    "## *Slant Well Profile (J Type)*"
   ],
   "metadata": {
    "collapsed": false
   }
  },
  {
   "cell_type": "markdown",
   "source": [
    "<img src=\"resources/j_prof.png\" width=500 height=500 align='center' />"
   ],
   "metadata": {
    "collapsed": false
   }
  },
  {
   "cell_type": "code",
   "execution_count": null,
   "outputs": [],
   "source": [
    "Data = namedtuple(\"Input\", \"TVD KOP BUR DH\")\n",
    "Output = namedtuple(\"Output\", \"R Theta TVD_EOB Md_EOB Dh_EOB Tan_len Md_total\")\n",
    "\n",
    "def well_J(data:Data, unit='ingles') -> Output:\n",
    "    # Call input values\n",
    "    tvd = data.TVD\n",
    "    kop = data.KOP\n",
    "    bur = data.BUR\n",
    "    dh = data.DH\n",
    "    if unit == 'ingles':\n",
    "        R = 5729.58 / bur\n",
    "    else:\n",
    "        R = 1718.87 / bur\n",
    "    if dh > R:\n",
    "        dc = dh - R\n",
    "    elif dh < R:\n",
    "        dc = R - dh\n",
    "    do = tvd - kop\n",
    "    doc = degrees(atan(dc / do))\n",
    "    oc = sqrt(dc**2 + do**2)\n",
    "    boc = degrees(acos(R / oc))\n",
    "    if R < dh:\n",
    "        bod = boc - doc\n",
    "    elif R > dh:\n",
    "        bod = boc + doc\n",
    "    theta = 90 - bod\n",
    "    tvd_eob = kop + abs(R * sin(radians(theta)))\n",
    "    if unit == 'ingles':\n",
    "        md_eob = kop + (theta / bur) * 100\n",
    "    else:\n",
    "        md_eob = kop + (theta / bur) * 30\n",
    "    dh_eob = R - R * cos(radians(theta))\n",
    "    tan_len = sqrt(oc**2 - R**2)\n",
    "    if unit == 'ingles':\n",
    "        md_total = kop + (theta / bur) * 100 + tan_len\n",
    "    else:\n",
    "        md_total = kop + (theta / bur) * 30 + tan_len\n",
    "    return Output(R=R, Theta=theta, TVD_EOB=tvd_eob, Md_EOB=md_eob, Dh_EOB=dh_eob, \\\n",
    "                  Tan_len=tan_len, Md_total=md_total)"
   ],
   "metadata": {
    "collapsed": false
   }
  },
  {
   "cell_type": "markdown",
   "source": [
    "## *Ejercicio 1*"
   ],
   "metadata": {
    "collapsed": false
   }
  },
  {
   "cell_type": "code",
   "execution_count": null,
   "outputs": [],
   "source": [
    "# data\n",
    "tvd = 8000 #ft\n",
    "kop = 500 #ft\n",
    "bur = 2 #o/100ft\n",
    "dh = 970.8 #ft"
   ],
   "metadata": {
    "collapsed": false
   }
  },
  {
   "cell_type": "code",
   "execution_count": null,
   "outputs": [],
   "source": [
    "trajectory_J = well_J(Data(tvd, kop, bur, dh))"
   ],
   "metadata": {
    "collapsed": false
   }
  },
  {
   "cell_type": "code",
   "execution_count": null,
   "outputs": [],
   "source": [
    "trajectory_J"
   ],
   "metadata": {
    "collapsed": false
   }
  },
  {
   "cell_type": "code",
   "execution_count": null,
   "outputs": [],
   "source": [
    "names = ['R', 'theta', 'tvd_EOB', 'MD_EOB', 'DH_EOB', 'Length_tan', 'MD_Total']\n",
    "for param , value in zip(names, trajectory_J):\n",
    "    if param == 'theta':\n",
    "        print(f\"{param} -> {value:.3f} degrees\")\n",
    "    else:\n",
    "        print(f\"{param} -> {value:.3f} ft\")"
   ],
   "metadata": {
    "collapsed": false
   }
  },
  {
   "cell_type": "markdown",
   "source": [
    "## *S-Type Well Profile*"
   ],
   "metadata": {
    "collapsed": false
   }
  },
  {
   "cell_type": "markdown",
   "source": [
    "<img src=\"resources/s_prof.png\" width=500 height=400 />"
   ],
   "metadata": {
    "collapsed": false
   }
  },
  {
   "cell_type": "code",
   "execution_count": null,
   "outputs": [],
   "source": [
    "# Function to calculate parameters from a S-Type well\n"
   ],
   "metadata": {
    "collapsed": false
   }
  },
  {
   "cell_type": "markdown",
   "source": [
    "# *Ejercicio 2*"
   ],
   "metadata": {
    "collapsed": false
   }
  },
  {
   "cell_type": "code",
   "execution_count": null,
   "outputs": [],
   "source": [
    "# Data\n",
    "kop = 6084 #ft\n",
    "tvd = 12000 #ft\n",
    "bur = 3 #o/100ft\n",
    "dor = 2 #o/ft\n",
    "dh = 3500 #ft"
   ],
   "metadata": {
    "collapsed": false
   }
  },
  {
   "cell_type": "markdown",
   "source": [
    "## *Horizontal Well Profiles*"
   ],
   "metadata": {
    "collapsed": false
   }
  },
  {
   "cell_type": "markdown",
   "source": [
    "<img src=\"resources/Horizontal_prof.jpg\" width=500 height=400 />"
   ],
   "metadata": {
    "collapsed": false
   }
  },
  {
   "cell_type": "code",
   "execution_count": null,
   "outputs": [],
   "source": [
    "# Function to calculate parameters of a Horizontal Well\n",
    "Data_H = namedtuple(\"Input\", \"TVD KOP BUR1 BUR2 DH\")\n",
    "Output_H = namedtuple(\"Output\", \"R1 R2 Theta TVD_EOB1 Md_EOB1 Dh_EOB1 Tan_len Md_SOB2 Md_total\")"
   ],
   "metadata": {
    "collapsed": false
   }
  },
  {
   "cell_type": "markdown",
   "source": [
    "# *Ejercicio 3*"
   ],
   "metadata": {
    "collapsed": false
   }
  },
  {
   "cell_type": "code",
   "execution_count": null,
   "outputs": [],
   "source": [
    "# Data\n",
    "tvd = 3800 #ft\n",
    "kop = 2000 #ft\n",
    "bur1 = 5.73 #o/100ft\n",
    "bur2 = 9.55 #o/100ft\n",
    "dh = 1800 #ft"
   ],
   "metadata": {
    "collapsed": false
   }
  }
 ],
 "metadata": {
  "kernelspec": {
   "display_name": "Python 3 (ipykernel)",
   "language": "python",
   "name": "python3"
  },
  "language_info": {
   "codemirror_mode": {
    "name": "ipython",
    "version": 3
   },
   "file_extension": ".py",
   "mimetype": "text/x-python",
   "name": "python",
   "nbconvert_exporter": "python",
   "pygments_lexer": "ipython3",
   "version": "3.9.13"
  }
 },
 "nbformat": 4,
 "nbformat_minor": 4
}
