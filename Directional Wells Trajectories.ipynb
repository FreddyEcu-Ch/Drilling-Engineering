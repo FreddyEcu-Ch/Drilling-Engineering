{
 "cells": [
  {
   "cell_type": "markdown",
   "metadata": {
    "pycharm": {
     "name": "#%% md\n"
    }
   },
   "source": [
    "#                                            DIRECTIONAL DRILLING \n",
    "##                                           *DIRECTIONAL WELLS PROFILES*"
   ]
  },
  {
   "cell_type": "markdown",
   "metadata": {
    "pycharm": {
     "name": "#%% md\n"
    }
   },
   "source": [
    "***"
   ]
  },
  {
   "cell_type": "markdown",
   "metadata": {
    "pycharm": {
     "name": "#%% md\n"
    }
   },
   "source": [
    "<img src=\"resources/Well_prof.jpg\" width=800 height=800 />"
   ]
  },
  {
   "cell_type": "markdown",
   "metadata": {
    "pycharm": {
     "name": "#%% md\n"
    }
   },
   "source": [
    "# Python Libraries"
   ]
  },
  {
   "cell_type": "code",
   "execution_count": 1,
   "metadata": {
    "collapsed": false,
    "jupyter": {
     "outputs_hidden": false
    },
    "pycharm": {
     "name": "#%%\n"
    }
   },
   "outputs": [],
   "source": [
    "from collections import namedtuple\n",
    "from math import radians, acos, asin, cos, sin, atan, degrees, sqrt"
   ]
  },
  {
   "cell_type": "markdown",
   "metadata": {
    "pycharm": {
     "name": "#%% md\n"
    }
   },
   "source": [
    "# *Directional Wells Profiles*"
   ]
  },
  {
   "cell_type": "markdown",
   "metadata": {
    "pycharm": {
     "name": "#%% md\n"
    }
   },
   "source": [
    "## *Slant Well Profile (J Type)*"
   ]
  },
  {
   "cell_type": "markdown",
   "metadata": {
    "pycharm": {
     "name": "#%% md\n"
    }
   },
   "source": [
    "<img src=\"resources/j_prof.png\" width=500 height=500 align='center' />"
   ]
  },
  {
   "cell_type": "code",
   "execution_count": 15,
   "metadata": {
    "collapsed": false,
    "jupyter": {
     "outputs_hidden": false
    },
    "pycharm": {
     "name": "#%%\n"
    }
   },
   "outputs": [],
   "source": [
    "Data = namedtuple(\"Input\", \"TVD KOP BUR DH\")\n",
    "Output = namedtuple(\"Output\", \"R Theta TVD_EOB Md_EOB Dh_EOB Tan_len Md_total\")\n",
    "\n",
    "def well_J(data:Data, unit='ingles') -> Output:\n",
    "    # Call input values\n",
    "    tvd = data.TVD\n",
    "    kop = data.KOP\n",
    "    bur = data.BUR\n",
    "    dh = data.DH\n",
    "    if unit == 'ingles':\n",
    "        R = 5729.58 / bur\n",
    "    else:\n",
    "        R = 1718.87 / bur\n",
    "    if dh > R:\n",
    "        dc = dh - R\n",
    "    elif dh < R:\n",
    "        dc = R - dh\n",
    "    do = tvd - kop\n",
    "    doc = degrees(atan(dc / do))\n",
    "    oc = sqrt(dc**2 + do**2)\n",
    "    boc = degrees(acos(R / oc))\n",
    "    if R < dh:\n",
    "        bod = boc - doc\n",
    "    elif R > dh:\n",
    "        bod = boc + doc\n",
    "    theta = 90 - bod\n",
    "    tvd_eob = kop + abs(R * sin(radians(theta)))\n",
    "    if unit == 'ingles':\n",
    "        md_eob = kop + (theta / bur) * 100\n",
    "    else:\n",
    "        md_eob = kop + (theta / bur) * 30\n",
    "    dh_eob = R - R * cos(radians(theta))\n",
    "    tan_len = sqrt(oc**2 - R**2)\n",
    "    if unit == 'ingles':\n",
    "        md_total = kop + (theta / bur) * 100 + tan_len\n",
    "    else:\n",
    "        md_total = kop + (theta / bur) * 30 + tan_len\n",
    "    return Output(R=R, Theta=theta, TVD_EOB=tvd_eob, Md_EOB=md_eob, Dh_EOB=dh_eob, \\\n",
    "                  Tan_len=tan_len, Md_total=md_total)\n",
    "\n",
    "    names = ['R', 'theta', 'tvd_EOB', 'MD_EOB', 'DH_EOB', 'Length_tan', 'MD_Total']\n",
    "    for param , value in zip(names, trajectory_J):\n",
    "        if param == 'theta':\n",
    "            print(f\"{param} -> {value:.3f} degrees\")\n",
    "        else:\n",
    "            print(f\"{param} -> {value:.3f} ft\")"
   ]
  },
  {
   "cell_type": "markdown",
   "metadata": {
    "pycharm": {
     "name": "#%% md\n"
    }
   },
   "source": [
    "## *Ejercicio 1*"
   ]
  },
  {
   "cell_type": "code",
   "execution_count": 16,
   "metadata": {
    "collapsed": false,
    "jupyter": {
     "outputs_hidden": false
    },
    "pycharm": {
     "name": "#%%\n"
    }
   },
   "outputs": [],
   "source": [
    "# data\n",
    "tvd = 8000 #ft\n",
    "kop = 500 #ft\n",
    "bur = 2 #o/100ft\n",
    "dh = 970.8 #ft"
   ]
  },
  {
   "cell_type": "code",
   "execution_count": 17,
   "metadata": {
    "collapsed": false,
    "jupyter": {
     "outputs_hidden": false
    },
    "pycharm": {
     "name": "#%%\n"
    }
   },
   "outputs": [],
   "source": [
    "trajectory_J = well_J(Data(tvd, kop, bur, dh))"
   ]
  },
  {
   "cell_type": "code",
   "execution_count": 18,
   "metadata": {
    "collapsed": false,
    "jupyter": {
     "outputs_hidden": false
    },
    "pycharm": {
     "name": "#%%\n"
    }
   },
   "outputs": [
    {
     "data": {
      "text/plain": [
       "Output(R=2864.79, Theta=7.564230623470863, TVD_EOB=877.1139517978513, Md_EOB=878.2115311735431, Dh_EOB=24.929649303260703, Tan_len=7185.414140882904, Md_total=8063.625672056447)"
      ]
     },
     "execution_count": 18,
     "metadata": {},
     "output_type": "execute_result"
    }
   ],
   "source": [
    "trajectory_J"
   ]
  },
  {
   "cell_type": "code",
   "execution_count": 21,
   "metadata": {
    "collapsed": false,
    "jupyter": {
     "outputs_hidden": false
    },
    "pycharm": {
     "name": "#%%\n"
    }
   },
   "outputs": [
    {
     "name": "stdout",
     "output_type": "stream",
     "text": [
      "R -> 2864.790 ft\n",
      "theta -> 7.564 degrees\n",
      "tvd_EOB -> 877.114 ft\n",
      "MD_EOB -> 878.212 ft\n",
      "DH_EOB -> 24.930 ft\n",
      "Length_tan -> 7185.414 ft\n",
      "MD_Total -> 8063.626 ft\n"
     ]
    }
   ],
   "source": [
    "names = ['R', 'theta', 'tvd_EOB', 'MD_EOB', 'DH_EOB', 'Length_tan', 'MD_Total']\n",
    "for param , value in zip(names, trajectory_J):\n",
    "    if param == 'theta':\n",
    "        print(f\"{param} -> {value:.3f} degrees\")\n",
    "    else:\n",
    "        print(f\"{param} -> {value:.3f} ft\")"
   ]
  },
  {
   "cell_type": "markdown",
   "metadata": {
    "pycharm": {
     "name": "#%% md\n"
    }
   },
   "source": [
    "## *S-Type Well Profile*"
   ]
  },
  {
   "cell_type": "markdown",
   "metadata": {
    "pycharm": {
     "name": "#%% md\n"
    }
   },
   "source": [
    "<img src=\"resources/s_prof.png\" width=500 height=400 />"
   ]
  },
  {
   "cell_type": "code",
   "execution_count": null,
   "metadata": {
    "collapsed": false,
    "jupyter": {
     "outputs_hidden": false
    },
    "pycharm": {
     "name": "#%%\n"
    }
   },
   "outputs": [],
   "source": [
    "# Function to calculate parameters from a S-Type well\n",
    "Data = namedtuple(\"Input\", \"TVD KOP BUR DOR DH\")\n",
    "Output = namedtuple(\"Output\", \"R1 R2 Theta TVD_EOB Md_EOB Dh_EOB Tan_len Md_total\")\n",
    "def well_J(data:Data, unit='ingles') -> Output:\n",
    "    # Call input values\n",
    "    tvd = data.TVD\n",
    "    kop = data.KOP\n",
    "    bur = data.BUR\n",
    "    dh = data.DH\n",
    "    if unit == 'ingles':\n",
    "        R1 = 5729.58 / bur\n",
    "        R2 = 5729.58 / bur\n",
    "        \n",
    "    else:\n",
    "        R1 = 1718.87 / bur\n",
    "        R2 = 1718.87 / bur\n",
    "    if dh > R1+R2:\n",
    "        fe = dh - (R1+R2)\n",
    "    elif dh < R1+R2:\n",
    "        dc = R1 - (dh-R2)\n",
    "    eo = tvd - kop\n",
    "    foe = degrees(atan( fe/ eo))\n",
    "    of = sqrt(fe**2 + eo**2)\n",
    "    fg= R1+R2\n",
    "    fog = degrees(asin(fg / of))\n",
    "    eog = fog-foe\n",
    "    tvd_eob = kop + abs(R1 * sin(radians(theta)))\n",
    "    d1= R1-(R1*cos(radianas(theta))\n",
    "    bc=sqrt(of**2 + fg**2)\n",
    "    tvd_sod= v2+(bc*cos(radians(theta))\n",
    "    \n",
    "    if unit == 'ingles':\n",
    "        md_eob = kop + (theta / bur) * 100\n",
    "    else:\n",
    "        md_eob = kop + (theta / bur) * 30\n",
    "    dh_eob = R - R * cos(radians(theta))\n",
    "    tan_len = sqrt(oc**2 - R**2)\n",
    "    if unit == 'ingles':\n",
    "        md_total = kop + (theta / bur) * 100 + tan_len\n",
    "    else:\n",
    "        md_total = kop + (theta / bur) * 30 + tan_len\n",
    "    return Output(R=R, Theta=theta, TVD_EOB=tvd_eob, Md_EOB=md_eob, Dh_EOB=dh_eob, \\\n",
    "                  Tan_len=tan_len, Md_total=md_total)\n",
    "\n",
    "    names = ['R', 'theta', 'tvd_EOB', 'MD_EOB', 'DH_EOB', 'Length_tan', 'MD_Total']\n",
    "    for param , value in zip(names, trajectory_J):\n",
    "        if param == 'theta':\n",
    "            print(f\"{param} -> {value:.3f} degrees\")\n",
    "        else:\n",
    "            print(f\"{param} -> {value:.3f} ft\")"
   ]
  },
  {
   "cell_type": "markdown",
   "metadata": {
    "pycharm": {
     "name": "#%% md\n"
    }
   },
   "source": [
    "# *Ejercicio 2*"
   ]
  },
  {
   "cell_type": "code",
   "execution_count": null,
   "metadata": {
    "collapsed": false,
    "jupyter": {
     "outputs_hidden": false
    },
    "pycharm": {
     "name": "#%%\n"
    }
   },
   "outputs": [],
   "source": [
    "# Data\n",
    "kop = 6084 #ft\n",
    "tvd = 12000 #ft\n",
    "bur = 3 #o/100ft\n",
    "dor = 2 #o/ft\n",
    "dh = 3500 #ft"
   ]
  },
  {
   "cell_type": "markdown",
   "metadata": {
    "pycharm": {
     "name": "#%% md\n"
    }
   },
   "source": [
    "## *Horizontal Well Profiles*"
   ]
  },
  {
   "cell_type": "markdown",
   "metadata": {
    "pycharm": {
     "name": "#%% md\n"
    }
   },
   "source": [
    "<img src=\"resources/Horizontal_prof.jpg\" width=500 height=400 />"
   ]
  },
  {
   "cell_type": "code",
   "execution_count": null,
   "metadata": {
    "collapsed": false,
    "jupyter": {
     "outputs_hidden": false
    },
    "pycharm": {
     "name": "#%%\n"
    }
   },
   "outputs": [],
   "source": [
    "# Function to calculate parameters of a Horizontal Well\n",
    "Data_H = namedtuple(\"Input\", \"TVD KOP BUR1 BUR2 DH\")\n",
    "Output_H = namedtuple(\"Output\", \"R1 R2 Theta TVD_EOB1 Md_EOB1 Dh_EOB1 Tan_len Md_SOB2 Md_total\")"
   ]
  },
  {
   "cell_type": "markdown",
   "metadata": {
    "pycharm": {
     "name": "#%% md\n"
    }
   },
   "source": [
    "# *Ejercicio 3*"
   ]
  },
  {
   "cell_type": "code",
   "execution_count": null,
   "metadata": {
    "collapsed": false,
    "jupyter": {
     "outputs_hidden": false
    },
    "pycharm": {
     "name": "#%%\n"
    }
   },
   "outputs": [],
   "source": [
    "# Data\n",
    "tvd = 3800 #ft\n",
    "kop = 2000 #ft\n",
    "bur1 = 5.73 #o/100ft\n",
    "bur2 = 9.55 #o/100ft\n",
    "dh = 1800 #ft"
   ]
  }
 ],
 "metadata": {
  "kernelspec": {
   "display_name": "Python 3 (ipykernel)",
   "language": "python",
   "name": "python3"
  },
  "language_info": {
   "codemirror_mode": {
    "name": "ipython",
    "version": 3
   },
   "file_extension": ".py",
   "mimetype": "text/x-python",
   "name": "python",
   "nbconvert_exporter": "python",
   "pygments_lexer": "ipython3",
   "version": "3.9.15"
  }
 },
 "nbformat": 4,
 "nbformat_minor": 4
}