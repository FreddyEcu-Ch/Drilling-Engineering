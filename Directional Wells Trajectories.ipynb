{
 "cells": [
  {
   "cell_type": "markdown",
   "metadata": {},
   "source": [
    "#                                            DIRECTIONAL DRILLING \n",
    "##                                           *DIRECTIONAL WELLS PROFILES*"
   ]
  },
  {
   "cell_type": "markdown",
   "metadata": {},
   "source": [
    "***"
   ]
  },
  {
   "cell_type": "markdown",
   "metadata": {},
   "source": [
    "<img src=\"resources/Well_prof.jpg\" width=800 height=800 />"
   ]
  },
  {
   "cell_type": "markdown",
   "metadata": {},
   "source": [
    "# Python Libraries"
   ]
  },
  {
   "cell_type": "code",
   "execution_count": 1,
   "outputs": [],
   "source": [
    "from collections import namedtuple\n",
    "from math import radians, acos, asin, cos, sin, atan, degrees, sqrt"
   ],
   "metadata": {
    "collapsed": false
   }
  },
  {
   "cell_type": "markdown",
   "source": [
    "# *Directional Wells Profiles*"
   ],
   "metadata": {
    "collapsed": false
   }
  },
  {
   "cell_type": "markdown",
   "source": [
    "## *Slant Well Profile (J Type)*"
   ],
   "metadata": {
    "collapsed": false
   }
  },
  {
   "cell_type": "markdown",
   "source": [
    "<img src=\"resources/j_prof.png\" width=500 height=500 align='center' />"
   ],
   "metadata": {
    "collapsed": false
   }
  },
  {
   "cell_type": "code",
   "execution_count": 15,
   "outputs": [],
   "source": [
    "Data = namedtuple(\"Input\", \"TVD KOP BUR DH\")\n",
    "Output = namedtuple(\"Output\", \"R Theta TVD_EOB Md_EOB Dh_EOB Tan_len Md_total\")\n",
    "\n",
    "def well_J(data:Data, unit='ingles') -> Output:\n",
    "    # Call input values\n",
    "    tvd = data.TVD\n",
    "    kop = data.KOP\n",
    "    bur = data.BUR\n",
    "    dh = data.DH\n",
    "    if unit == 'ingles':\n",
    "        R = 5729.58 / bur\n",
    "    else:\n",
    "        R = 1718.87 / bur\n",
    "    if dh > R:\n",
    "        dc = dh - R\n",
    "    elif dh < R:\n",
    "        dc = R - dh\n",
    "    do = tvd - kop\n",
    "    doc = degrees(atan(dc / do))\n",
    "    oc = sqrt(dc**2 + do**2)\n",
    "    boc = degrees(acos(R / oc))\n",
    "    if R < dh:\n",
    "        bod = boc - doc\n",
    "    elif R > dh:\n",
    "        bod = boc + doc\n",
    "    theta = 90 - bod\n",
    "    tvd_eob = kop + abs(R * sin(radians(theta)))\n",
    "    if unit == 'ingles':\n",
    "        md_eob = kop + (theta / bur) * 100\n",
    "    else:\n",
    "        md_eob = kop + (theta / bur) * 30\n",
    "    dh_eob = R - R * cos(radians(theta))\n",
    "    tan_len = sqrt(oc**2 - R**2)\n",
    "    if unit == 'ingles':\n",
    "        md_total = kop + (theta / bur) * 100 + tan_len\n",
    "    else:\n",
    "        md_total = kop + (theta / bur) * 30 + tan_len\n",
    "    return Output(R=R, Theta=theta, TVD_EOB=tvd_eob, Md_EOB=md_eob, Dh_EOB=dh_eob, \\\n",
    "                  Tan_len=tan_len, Md_total=md_total)\n",
    "\n",
    "    names = ['R', 'theta', 'tvd_EOB', 'MD_EOB', 'DH_EOB', 'Length_tan', 'MD_Total']\n",
    "    for param , value in zip(names, trajectory_J):\n",
    "        if param == 'theta':\n",
    "            print(f\"{param} -> {value:.3f} degrees\")\n",
    "        else:\n",
    "            print(f\"{param} -> {value:.3f} ft\")"
   ],
   "metadata": {
    "collapsed": false
   }
  },
  {
   "cell_type": "markdown",
   "source": [
    "## *Ejercicio 1*"
   ],
   "metadata": {
    "collapsed": false
   }
  },
  {
   "cell_type": "code",
   "execution_count": 16,
   "outputs": [],
   "source": [
    "# data\n",
    "tvd = 8000 #ft\n",
    "kop = 500 #ft\n",
    "bur = 2 #o/100ft\n",
    "dh = 970.8 #ft"
   ],
   "metadata": {
    "collapsed": false
   }
  },
  {
   "cell_type": "code",
   "execution_count": 17,
   "outputs": [],
   "source": [
    "trajectory_J = well_J(Data(tvd, kop, bur, dh))"
   ],
   "metadata": {
    "collapsed": false
   }
  },
  {
   "cell_type": "code",
   "execution_count": 18,
   "outputs": [
    {
     "data": {
      "text/plain": "Output(R=2864.79, Theta=7.564230623470863, TVD_EOB=877.1139517978513, Md_EOB=878.2115311735431, Dh_EOB=24.929649303260703, Tan_len=7185.414140882904, Md_total=8063.625672056447)"
     },
     "execution_count": 18,
     "metadata": {},
     "output_type": "execute_result"
    }
   ],
   "source": [
    "trajectory_J"
   ],
   "metadata": {
    "collapsed": false
   }
  },
  {
   "cell_type": "code",
   "execution_count": 21,
   "outputs": [
    {
     "name": "stdout",
     "output_type": "stream",
     "text": [
      "R -> 2864.790 ft\n",
      "theta -> 7.564 degrees\n",
      "tvd_EOB -> 877.114 ft\n",
      "MD_EOB -> 878.212 ft\n",
      "DH_EOB -> 24.930 ft\n",
      "Length_tan -> 7185.414 ft\n",
      "MD_Total -> 8063.626 ft\n"
     ]
    }
   ],
   "source": [
    "names = ['R', 'theta', 'tvd_EOB', 'MD_EOB', 'DH_EOB', 'Length_tan', 'MD_Total']\n",
    "for param , value in zip(names, trajectory_J):\n",
    "    if param == 'theta':\n",
    "        print(f\"{param} -> {value:.3f} degrees\")\n",
    "    else:\n",
    "        print(f\"{param} -> {value:.3f} ft\")"
   ],
   "metadata": {
    "collapsed": false
   }
  },
  {
   "cell_type": "markdown",
   "source": [
    "## *S-Type Well Profile*"
   ],
   "metadata": {
    "collapsed": false
   }
  },
  {
   "cell_type": "markdown",
   "source": [
    "<img src=\"resources/s_prof.png\" width=500 height=400 />"
   ],
   "metadata": {
    "collapsed": false
   }
  },
  {
   "cell_type": "code",
   "execution_count": 22,
   "outputs": [],
   "source": [
    "# Function to calculate parameters from a S-Type well\n",
    "Data_S = namedtuple(\"Input\", \"TVD KOP BUR DOR DH\")\n",
    "Output_S = namedtuple(\"Output\", \"R1 R2 Theta TVD_EOB Md_EOB Dh_EOB Tan_len Md_SOD TVD_SOD Dh_SOD Md_total\")\n",
    "\n",
    "def well_S(data:Data_S, unit='ingles'):\n",
    "    tvd = data.TVD\n",
    "    kop = data.KOP\n",
    "    bur = data.BUR\n",
    "    dor = data.DOR\n",
    "    dh = data.DH\n",
    "    if unit == 'ingles':\n",
    "        R1 = 5729.58 / bur\n",
    "        R2 = 5729.58 / dor\n",
    "    else:\n",
    "        R1 = 1718.87 / bur\n",
    "        R2 = 1718.87 / dor\n",
    "    if dh > (R1 + R2):\n",
    "        fe = dh - (R1 + R2)\n",
    "    elif dh < (R1 + R2):\n",
    "        fe = R1 - (dh - R2)\n",
    "    eo = tvd - kop\n",
    "    foe = degrees(atan(fe / eo))\n",
    "    of = sqrt(fe**2 + eo**2)\n",
    "    fg = R1 + R2\n",
    "    fog = degrees(asin(fg / of))\n",
    "    theta = fog - foe\n",
    "    tvd_eob = kop + R1 * sin(radians(theta))\n",
    "    if unit == 'ingles':\n",
    "        md_eob = kop + (theta / bur) * 100\n",
    "    else:\n",
    "        md_eob = kop + (theta / bur) * 30\n",
    "    dh_eob = R1 - abs(R1 * cos(radians(theta)))\n",
    "    tan_len = sqrt(of**2 - fg**2)\n",
    "    if unit == 'ingles':\n",
    "        md_sod = kop + (theta / bur) * 100 + tan_len\n",
    "    else:\n",
    "         md_sod = kop + (theta / bur) * 30 + tan_len\n",
    "    tvd_sod = tvd_eob + tan_len * abs(cos(radians(theta)))\n",
    "    dh_sod = dh_eob + abs(tan_len * sin(radians(theta)))\n",
    "    if unit == 'ingles':\n",
    "        md_total = kop + (theta / bur) * 100 + tan_len + (theta / dor) * 100\n",
    "    else:\n",
    "        md_total = kop + (theta / bur) * 30 + tan_len + (theta / dor) * 30\n",
    "\n",
    "    output_S = Output_S(R1=R1, R2=R2, Theta=theta, TVD_EOB=tvd_eob, Md_EOB=md_eob, Dh_EOB=dh_eob, \\\n",
    "                    Tan_len=tan_len, Md_SOD=md_sod, TVD_SOD=tvd_sod, Dh_SOD=dh_sod, Md_total=md_total)\n",
    "\n",
    "    names = ['R1', 'R2', 'theta', 'tvd_EOB', 'Md_EOB', 'Dh_EOB', 'Lengh_tan', 'Md_SOD', 'tvd_SOD', 'Dh_SOD', 'Md_Total']\n",
    "    for param , value in zip(names, output_S):\n",
    "        if param == 'theta':\n",
    "            print(f\"{param} -> {value} degrees\")\n",
    "        else:\n",
    "            print(f\"{param} -> {value} ft\")"
   ],
   "metadata": {
    "collapsed": false
   }
  },
  {
   "cell_type": "markdown",
   "source": [
    "# *Ejercicio 2*"
   ],
   "metadata": {
    "collapsed": false
   }
  },
  {
   "cell_type": "code",
   "execution_count": 23,
   "outputs": [],
   "source": [
    "# Data\n",
    "kop = 6084 #ft\n",
    "tvd = 12000 #ft\n",
    "bur = 3 #o/100ft\n",
    "dor = 2 #o/ft\n",
    "dh = 3500 #ft"
   ],
   "metadata": {
    "collapsed": false
   }
  },
  {
   "cell_type": "code",
   "execution_count": 24,
   "outputs": [
    {
     "name": "stdout",
     "output_type": "stream",
     "text": [
      "R1 -> 1909.86 ft\n",
      "R2 -> 2864.79 ft\n",
      "theta -> 39.93029740693158 degrees\n",
      "tvd_EOB -> 7309.853592805263 ft\n",
      "Md_EOB -> 7415.009913564386 ft\n",
      "Dh_EOB -> 445.32997688458863 ft\n",
      "Lengh_tan -> 3718.401000430159 ft\n",
      "Md_SOD -> 11133.410913994545 ft\n",
      "tvd_SOD -> 10161.219610792105 ft\n",
      "Dh_SOD -> 2832.0050346731164 ft\n",
      "Md_Total -> 13129.925784341123 ft\n"
     ]
    }
   ],
   "source": [
    "well_S(Data_S(tvd, kop, bur, dor, dh))"
   ],
   "metadata": {
    "collapsed": false
   }
  },
  {
   "cell_type": "markdown",
   "source": [
    "## *Horizontal Well Profiles*"
   ],
   "metadata": {
    "collapsed": false
   }
  },
  {
   "cell_type": "markdown",
   "source": [
    "<img src=\"resources/Horizontal_prof.jpg\" width=500 height=400 />"
   ],
   "metadata": {
    "collapsed": false
   }
  },
  {
   "cell_type": "code",
   "execution_count": null,
   "outputs": [],
   "source": [
    "# Function to calculate parameters of a Horizontal Well\n",
    "Data_H = namedtuple(\"Input\", \"TVD KOP BUR1 BUR2 DH\")\n",
    "Output_H = namedtuple(\"Output\", \"R1 R2 Theta TVD_EOB1 Md_EOB1 Dh_EOB1 Tan_len Md_SOB2 Md_total\")\n",
    "def well_H(data:Data_H, unit='ingles'):\n",
    "    tvd = data.TVD\n",
    "    kop = data.KOP\n",
    "    bur1 = data.BUR1\n",
    "    bur2 = data.BUR2\n",
    "    dh = data.DH\n",
    "    if unit == 'ingles':\n",
    "        R1 = 5729.58 / bur1\n",
    "        R2 = 5729.58 / bur2\n",
    "    else:\n",
    "        R1 = 1718.87 / bur1\n",
    "        R2 = 1718.87 / bur2\n",
    "    eg = (tvd - kop) - R2\n",
    "    eo = dh - R1\n",
    "    goe = degrees(atan(eg / eo))\n",
    "    og = sqrt(eg**2 + eo**2)\n",
    "    of = R1 - R2\n",
    "    gof = degrees(acos(of / og))\n",
    "    theta = 180 - goe - gof\n",
    "    tvd_eob1 = kop + R1 * sin(radians(theta))\n",
    "    if unit == 'ingles':\n",
    "        md_eob1 = kop + (theta / bur1) * 100\n",
    "    else:\n",
    "        md_eob1 = kop + (theta / bur1) * 30\n",
    "    dh_eob1 = R1 - abs(R1 * cos(radians(theta)))\n",
    "    tan_len = sqrt(og**2 - of**2)\n",
    "    if unit == 'ingles':\n",
    "        md_sob2 = kop + (theta / bur1) * 100 + tan_len\n",
    "    else:\n",
    "         md_sob2 = kop + (theta / bur1) * 30 + tan_len\n",
    "    cgd = gof + goe - 90\n",
    "    if unit == 'ingles':\n",
    "        md_total = kop + (theta / bur1) * 100 + tan_len + (cgd / bur2) * 100\n",
    "    else:\n",
    "        md_total = kop + (theta / bur1) * 30 + tan_len + (cgd / bur2) * 30\n",
    "\n",
    "    output_H = Output_H(R1=R1, R2=R2, Theta=theta, TVD_EOB1=tvd_eob1, Md_EOB1=md_eob1, Dh_EOB1=dh_eob1, \\\n",
    "                    Tan_len=tan_len, Md_SOB2=md_sob2, Md_total=md_total)\n",
    "\n",
    "    names = ['R1', 'R2', 'theta', 'tvd_EOB1', 'Md_EOB1', 'Dh_EOB1', 'Tan_Len', 'Md_SOB2', 'Md_Total']\n",
    "    for param , value in zip(names, output_H):\n",
    "        if param == 'theta':\n",
    "            print(f\"{param} -> {value} degrees\")\n",
    "        else:\n",
    "            print(f\"{param} -> {value} ft\")"
   ],
   "metadata": {
    "collapsed": false
   }
  },
  {
   "cell_type": "markdown",
   "source": [
    "# *Ejercicio 3*"
   ],
   "metadata": {
    "collapsed": false
   }
  },
  {
   "cell_type": "code",
   "execution_count": null,
   "outputs": [],
   "source": [
    "# Data\n",
    "tvd = 3800 #ft\n",
    "kop = 2000 #ft\n",
    "bur1 = 5.73 #o/100ft\n",
    "bur2 = 9.55 #o/100ft\n",
    "dh = 1800 #ft\n",
    "\n",
    "well_H(Data_H(tvd, kop, bur1, bur2, dh))\n"
   ],
   "metadata": {
    "collapsed": false
   }
  },
  {
   "cell_type": "code",
   "execution_count": null,
   "outputs": [],
   "source": [],
   "metadata": {
    "collapsed": false
   }
  }
 ],
 "metadata": {
  "kernelspec": {
   "display_name": "Python 3 (ipykernel)",
   "language": "python",
   "name": "python3"
  },
  "language_info": {
   "codemirror_mode": {
    "name": "ipython",
    "version": 3
   },
   "file_extension": ".py",
   "mimetype": "text/x-python",
   "name": "python",
   "nbconvert_exporter": "python",
   "pygments_lexer": "ipython3",
   "version": "3.9.13"
  }
 },
 "nbformat": 4,
 "nbformat_minor": 4
}
